{
  "nbformat": 4,
  "nbformat_minor": 0,
  "metadata": {
    "colab": {
      "provenance": [],
      "collapsed_sections": []
    },
    "kernelspec": {
      "name": "python3",
      "display_name": "Python 3"
    },
    "language_info": {
      "name": "python"
    }
  },
  "cells": [
    {
      "cell_type": "markdown",
      "source": [
        "# ** Pytorch Practice**"
      ],
      "metadata": {
        "id": "xQxup3_0cSVw"
      }
    },
    {
      "cell_type": "code",
      "source": [
        "%pip install -U git+https://github.com/szagoruyko/pytorchviz.git@master"
      ],
      "metadata": {
        "colab": {
          "base_uri": "https://localhost:8080/"
        },
        "id": "Pp5qs8Vv1qwr",
        "outputId": "a450f672-29f1-43e8-dc4c-552ef783f351"
      },
      "execution_count": 1,
      "outputs": [
        {
          "output_type": "stream",
          "name": "stdout",
          "text": [
            "Looking in indexes: https://pypi.org/simple, https://us-python.pkg.dev/colab-wheels/public/simple/\n",
            "Collecting git+https://github.com/szagoruyko/pytorchviz.git@master\n",
            "  Cloning https://github.com/szagoruyko/pytorchviz.git (to revision master) to /tmp/pip-req-build-sdjq6k5b\n",
            "  Running command git clone -q https://github.com/szagoruyko/pytorchviz.git /tmp/pip-req-build-sdjq6k5b\n",
            "Requirement already satisfied: torch in /usr/local/lib/python3.7/dist-packages (from torchviz==0.0.2) (1.12.1+cu113)\n",
            "Requirement already satisfied: graphviz in /usr/local/lib/python3.7/dist-packages (from torchviz==0.0.2) (0.10.1)\n",
            "Requirement already satisfied: typing-extensions in /usr/local/lib/python3.7/dist-packages (from torch->torchviz==0.0.2) (4.1.1)\n",
            "Building wheels for collected packages: torchviz\n",
            "  Building wheel for torchviz (setup.py) ... \u001b[?25l\u001b[?25hdone\n",
            "  Created wheel for torchviz: filename=torchviz-0.0.2-py3-none-any.whl size=4990 sha256=92721fc7a7d9922ed4f7ddd2d17539f41cc0a0d74258fd6eaa1294f9d50fd6f4\n",
            "  Stored in directory: /tmp/pip-ephem-wheel-cache-b18p34lo/wheels/69/06/fd/652908d49c931cdcca96be3c727fb11ed777a3a62402210396\n",
            "Successfully built torchviz\n",
            "Installing collected packages: torchviz\n",
            "Successfully installed torchviz-0.0.2\n"
          ]
        }
      ]
    },
    {
      "cell_type": "code",
      "execution_count": 2,
      "metadata": {
        "id": "Vqo8Q0ATbvPp"
      },
      "outputs": [],
      "source": [
        "import torch.nn as nn"
      ]
    },
    {
      "cell_type": "markdown",
      "source": [
        "Pytorch latest version"
      ],
      "metadata": {
        "id": "3xRKKiWpcC2q"
      }
    },
    {
      "cell_type": "code",
      "source": [
        "import torch\n",
        "torch.__version__"
      ],
      "metadata": {
        "colab": {
          "base_uri": "https://localhost:8080/",
          "height": 35
        },
        "id": "Llo0Y1GNb5kR",
        "outputId": "6773bb48-774e-47f4-8123-7155d6aa2423"
      },
      "execution_count": 4,
      "outputs": [
        {
          "output_type": "execute_result",
          "data": {
            "text/plain": [
              "'1.12.1+cu113'"
            ],
            "application/vnd.google.colaboratory.intrinsic+json": {
              "type": "string"
            }
          },
          "metadata": {},
          "execution_count": 4
        }
      ]
    },
    {
      "cell_type": "markdown",
      "source": [
        "create a simple model"
      ],
      "metadata": {
        "id": "mbZ_5tR2qhPD"
      }
    },
    {
      "cell_type": "code",
      "source": [
        "input_node = 2\n",
        "output_node = 2\n",
        "model = nn.Linear(input_node, output_node, bias = True)\n",
        "input = torch.tensor([1.,2.])\n",
        "output = model(input)\n",
        "print(output.size())"
      ],
      "metadata": {
        "colab": {
          "base_uri": "https://localhost:8080/"
        },
        "id": "grgkYQLcgGhI",
        "outputId": "ee6eb0da-6b0e-4ec4-9c2d-742e2093a7c8"
      },
      "execution_count": 5,
      "outputs": [
        {
          "output_type": "stream",
          "name": "stdout",
          "text": [
            "torch.Size([2])\n"
          ]
        }
      ]
    },
    {
      "cell_type": "markdown",
      "source": [
        "visualize the model"
      ],
      "metadata": {
        "id": "gf72D_EuqlIk"
      }
    },
    {
      "cell_type": "code",
      "source": [
        "from torchviz import make_dot\n",
        "make_dot(model(input), params= dict(model.named_parameters()))"
      ],
      "metadata": {
        "colab": {
          "base_uri": "https://localhost:8080/",
          "height": 543
        },
        "id": "Lsjx18US00LF",
        "outputId": "ff295321-5ccc-4343-e297-9c579849b07c"
      },
      "execution_count": 6,
      "outputs": [
        {
          "output_type": "execute_result",
          "data": {
            "text/plain": [
              "<graphviz.dot.Digraph at 0x7f11b724b650>"
            ],
            "image/svg+xml": "<?xml version=\"1.0\" encoding=\"UTF-8\" standalone=\"no\"?>\n<!DOCTYPE svg PUBLIC \"-//W3C//DTD SVG 1.1//EN\"\n \"http://www.w3.org/Graphics/SVG/1.1/DTD/svg11.dtd\">\n<!-- Generated by graphviz version 2.40.1 (20161225.0304)\n -->\n<!-- Title: %3 Pages: 1 -->\n<svg width=\"240pt\" height=\"391pt\"\n viewBox=\"0.00 0.00 240.00 391.00\" xmlns=\"http://www.w3.org/2000/svg\" xmlns:xlink=\"http://www.w3.org/1999/xlink\">\n<g id=\"graph0\" class=\"graph\" transform=\"scale(1 1) rotate(0) translate(4 387)\">\n<title>%3</title>\n<polygon fill=\"#ffffff\" stroke=\"transparent\" points=\"-4,4 -4,-387 236,-387 236,4 -4,4\"/>\n<!-- 139714063858384 -->\n<g id=\"node1\" class=\"node\">\n<title>139714063858384</title>\n<polygon fill=\"#caff70\" stroke=\"#000000\" points=\"145.5,-31 91.5,-31 91.5,0 145.5,0 145.5,-31\"/>\n<text text-anchor=\"middle\" x=\"118.5\" y=\"-7\" font-family=\"monospace\" font-size=\"10.00\" fill=\"#000000\"> (2)</text>\n</g>\n<!-- 139714063808208 -->\n<g id=\"node2\" class=\"node\">\n<title>139714063808208</title>\n<polygon fill=\"#d3d3d3\" stroke=\"#000000\" points=\"163,-86 74,-86 74,-67 163,-67 163,-86\"/>\n<text text-anchor=\"middle\" x=\"118.5\" y=\"-74\" font-family=\"monospace\" font-size=\"10.00\" fill=\"#000000\">AddBackward0</text>\n</g>\n<!-- 139714063808208&#45;&gt;139714063858384 -->\n<g id=\"edge8\" class=\"edge\">\n<title>139714063808208&#45;&gt;139714063858384</title>\n<path fill=\"none\" stroke=\"#000000\" d=\"M118.5,-66.9688C118.5,-60.1289 118.5,-50.5621 118.5,-41.5298\"/>\n<polygon fill=\"#000000\" stroke=\"#000000\" points=\"122.0001,-41.3678 118.5,-31.3678 115.0001,-41.3678 122.0001,-41.3678\"/>\n</g>\n<!-- 139714063808016 -->\n<g id=\"node3\" class=\"node\">\n<title>139714063808016</title>\n<polygon fill=\"#d3d3d3\" stroke=\"#000000\" points=\"113,-141 0,-141 0,-122 113,-122 113,-141\"/>\n<text text-anchor=\"middle\" x=\"56.5\" y=\"-129\" font-family=\"monospace\" font-size=\"10.00\" fill=\"#000000\">SqueezeBackward3</text>\n</g>\n<!-- 139714063808016&#45;&gt;139714063808208 -->\n<g id=\"edge1\" class=\"edge\">\n<title>139714063808016&#45;&gt;139714063808208</title>\n<path fill=\"none\" stroke=\"#000000\" d=\"M67.2996,-121.9197C76.2572,-113.9735 89.2004,-102.4916 99.8318,-93.0605\"/>\n<polygon fill=\"#000000\" stroke=\"#000000\" points=\"102.2486,-95.5953 107.4067,-86.3408 97.6033,-90.3587 102.2486,-95.5953\"/>\n</g>\n<!-- 139714063807952 -->\n<g id=\"node4\" class=\"node\">\n<title>139714063807952</title>\n<polygon fill=\"#d3d3d3\" stroke=\"#000000\" points=\"98,-201.5 15,-201.5 15,-182.5 98,-182.5 98,-201.5\"/>\n<text text-anchor=\"middle\" x=\"56.5\" y=\"-189.5\" font-family=\"monospace\" font-size=\"10.00\" fill=\"#000000\">MmBackward0</text>\n</g>\n<!-- 139714063807952&#45;&gt;139714063808016 -->\n<g id=\"edge2\" class=\"edge\">\n<title>139714063807952&#45;&gt;139714063808016</title>\n<path fill=\"none\" stroke=\"#000000\" d=\"M56.5,-182.2796C56.5,-174.0376 56.5,-161.9457 56.5,-151.629\"/>\n<polygon fill=\"#000000\" stroke=\"#000000\" points=\"60.0001,-151.3972 56.5,-141.3972 53.0001,-151.3973 60.0001,-151.3972\"/>\n</g>\n<!-- 139714063808400 -->\n<g id=\"node5\" class=\"node\">\n<title>139714063808400</title>\n<polygon fill=\"#d3d3d3\" stroke=\"#000000\" points=\"95,-262 18,-262 18,-243 95,-243 95,-262\"/>\n<text text-anchor=\"middle\" x=\"56.5\" y=\"-250\" font-family=\"monospace\" font-size=\"10.00\" fill=\"#000000\">TBackward0</text>\n</g>\n<!-- 139714063808400&#45;&gt;139714063807952 -->\n<g id=\"edge3\" class=\"edge\">\n<title>139714063808400&#45;&gt;139714063807952</title>\n<path fill=\"none\" stroke=\"#000000\" d=\"M56.5,-242.7796C56.5,-234.5376 56.5,-222.4457 56.5,-212.129\"/>\n<polygon fill=\"#000000\" stroke=\"#000000\" points=\"60.0001,-211.8972 56.5,-201.8972 53.0001,-211.8973 60.0001,-211.8972\"/>\n</g>\n<!-- 139714063808656 -->\n<g id=\"node6\" class=\"node\">\n<title>139714063808656</title>\n<polygon fill=\"#d3d3d3\" stroke=\"#000000\" points=\"107,-317 6,-317 6,-298 107,-298 107,-317\"/>\n<text text-anchor=\"middle\" x=\"56.5\" y=\"-305\" font-family=\"monospace\" font-size=\"10.00\" fill=\"#000000\">AccumulateGrad</text>\n</g>\n<!-- 139714063808656&#45;&gt;139714063808400 -->\n<g id=\"edge4\" class=\"edge\">\n<title>139714063808656&#45;&gt;139714063808400</title>\n<path fill=\"none\" stroke=\"#000000\" d=\"M56.5,-297.9197C56.5,-290.9083 56.5,-281.1442 56.5,-272.4652\"/>\n<polygon fill=\"#000000\" stroke=\"#000000\" points=\"60.0001,-272.3408 56.5,-262.3408 53.0001,-272.3409 60.0001,-272.3408\"/>\n</g>\n<!-- 139714063856752 -->\n<g id=\"node7\" class=\"node\">\n<title>139714063856752</title>\n<polygon fill=\"#add8e6\" stroke=\"#000000\" points=\"86,-383 27,-383 27,-353 86,-353 86,-383\"/>\n<text text-anchor=\"middle\" x=\"56.5\" y=\"-371\" font-family=\"monospace\" font-size=\"10.00\" fill=\"#000000\">weight</text>\n<text text-anchor=\"middle\" x=\"56.5\" y=\"-360\" font-family=\"monospace\" font-size=\"10.00\" fill=\"#000000\"> (2, 2)</text>\n</g>\n<!-- 139714063856752&#45;&gt;139714063808656 -->\n<g id=\"edge5\" class=\"edge\">\n<title>139714063856752&#45;&gt;139714063808656</title>\n<path fill=\"none\" stroke=\"#000000\" d=\"M56.5,-352.7333C56.5,-345.0322 56.5,-335.5977 56.5,-327.3414\"/>\n<polygon fill=\"#000000\" stroke=\"#000000\" points=\"60.0001,-327.0864 56.5,-317.0864 53.0001,-327.0864 60.0001,-327.0864\"/>\n</g>\n<!-- 139714063808336 -->\n<g id=\"node8\" class=\"node\">\n<title>139714063808336</title>\n<polygon fill=\"#d3d3d3\" stroke=\"#000000\" points=\"232,-141 131,-141 131,-122 232,-122 232,-141\"/>\n<text text-anchor=\"middle\" x=\"181.5\" y=\"-129\" font-family=\"monospace\" font-size=\"10.00\" fill=\"#000000\">AccumulateGrad</text>\n</g>\n<!-- 139714063808336&#45;&gt;139714063808208 -->\n<g id=\"edge6\" class=\"edge\">\n<title>139714063808336&#45;&gt;139714063808208</title>\n<path fill=\"none\" stroke=\"#000000\" d=\"M170.5262,-121.9197C161.4242,-113.9735 148.2721,-102.4916 137.4693,-93.0605\"/>\n<polygon fill=\"#000000\" stroke=\"#000000\" points=\"139.6072,-90.2808 129.7722,-86.3408 135.0036,-95.5541 139.6072,-90.2808\"/>\n</g>\n<!-- 139714063856848 -->\n<g id=\"node9\" class=\"node\">\n<title>139714063856848</title>\n<polygon fill=\"#add8e6\" stroke=\"#000000\" points=\"208.5,-207 154.5,-207 154.5,-177 208.5,-177 208.5,-207\"/>\n<text text-anchor=\"middle\" x=\"181.5\" y=\"-195\" font-family=\"monospace\" font-size=\"10.00\" fill=\"#000000\">bias</text>\n<text text-anchor=\"middle\" x=\"181.5\" y=\"-184\" font-family=\"monospace\" font-size=\"10.00\" fill=\"#000000\"> (2)</text>\n</g>\n<!-- 139714063856848&#45;&gt;139714063808336 -->\n<g id=\"edge7\" class=\"edge\">\n<title>139714063856848&#45;&gt;139714063808336</title>\n<path fill=\"none\" stroke=\"#000000\" d=\"M181.5,-176.7333C181.5,-169.0322 181.5,-159.5977 181.5,-151.3414\"/>\n<polygon fill=\"#000000\" stroke=\"#000000\" points=\"185.0001,-151.0864 181.5,-141.0864 178.0001,-151.0864 185.0001,-151.0864\"/>\n</g>\n</g>\n</svg>\n"
          },
          "metadata": {},
          "execution_count": 6
        }
      ]
    },
    {
      "cell_type": "markdown",
      "source": [
        "**Convolutional Neural Network**"
      ],
      "metadata": {
        "id": "7yKXmrG6q1VS"
      }
    },
    {
      "cell_type": "markdown",
      "source": [
        "create image"
      ],
      "metadata": {
        "id": "jpFUdK9Ouanf"
      }
    },
    {
      "cell_type": "code",
      "source": [
        "image = torch.rand(3,9,9) #  (channel, height, weight)\n",
        "print(image.shape)"
      ],
      "metadata": {
        "colab": {
          "base_uri": "https://localhost:8080/"
        },
        "id": "gXLyBcySshpW",
        "outputId": "a98594c6-64e0-4cad-f811-6f73af9b886f"
      },
      "execution_count": 47,
      "outputs": [
        {
          "output_type": "stream",
          "name": "stdout",
          "text": [
            "torch.Size([3, 9, 9])\n"
          ]
        }
      ]
    },
    {
      "cell_type": "markdown",
      "source": [
        "create model of convolutional Neural Network"
      ],
      "metadata": {
        "id": "UU_4jAE9uvSr"
      }
    },
    {
      "cell_type": "code",
      "source": [
        "in_channels = 3\n",
        "out_channels = 5\n",
        "kernel_size = 3\n",
        "model = torch.nn.Conv2d(in_channels, out_channels, kernel_size, stride=1, padding=0, dilation=1, groups=1, bias=True, padding_mode='zeros', device=None, dtype=None)\n",
        "output = model(image)\n",
        "print(output.size())"
      ],
      "metadata": {
        "colab": {
          "base_uri": "https://localhost:8080/"
        },
        "id": "M3GjnLWEyWzs",
        "outputId": "91be8cdd-3d93-4752-9d9c-85a015e107db"
      },
      "execution_count": 48,
      "outputs": [
        {
          "output_type": "stream",
          "name": "stdout",
          "text": [
            "torch.Size([5, 7, 7])\n"
          ]
        }
      ]
    },
    {
      "cell_type": "markdown",
      "source": [],
      "metadata": {
        "id": "lvJKX6nCufGc"
      }
    },
    {
      "cell_type": "code",
      "source": [
        "make_dot(model(image), params= dict(model.named_parameters()))"
      ],
      "metadata": {
        "colab": {
          "base_uri": "https://localhost:8080/",
          "height": 397
        },
        "id": "sjjbtWDArbFf",
        "outputId": "f1caa1c3-03fd-4829-dcdd-6b4f4c4acfcb"
      },
      "execution_count": 49,
      "outputs": [
        {
          "output_type": "execute_result",
          "data": {
            "text/plain": [
              "<graphviz.dot.Digraph at 0x7f11af7866d0>"
            ],
            "image/svg+xml": "<?xml version=\"1.0\" encoding=\"UTF-8\" standalone=\"no\"?>\n<!DOCTYPE svg PUBLIC \"-//W3C//DTD SVG 1.1//EN\"\n \"http://www.w3.org/Graphics/SVG/1.1/DTD/svg11.dtd\">\n<!-- Generated by graphviz version 2.40.1 (20161225.0304)\n -->\n<!-- Title: %3 Pages: 1 -->\n<svg width=\"236pt\" height=\"282pt\"\n viewBox=\"0.00 0.00 236.00 282.00\" xmlns=\"http://www.w3.org/2000/svg\" xmlns:xlink=\"http://www.w3.org/1999/xlink\">\n<g id=\"graph0\" class=\"graph\" transform=\"scale(1 1) rotate(0) translate(4 278)\">\n<title>%3</title>\n<polygon fill=\"#ffffff\" stroke=\"transparent\" points=\"-4,4 -4,-278 232,-278 232,4 -4,4\"/>\n<!-- 139713927292688 -->\n<g id=\"node1\" class=\"node\">\n<title>139713927292688</title>\n<polygon fill=\"#caff70\" stroke=\"#000000\" points=\"156,-31 79,-31 79,0 156,0 156,-31\"/>\n<text text-anchor=\"middle\" x=\"117.5\" y=\"-7\" font-family=\"monospace\" font-size=\"10.00\" fill=\"#000000\"> (5, 7, 7)</text>\n</g>\n<!-- 139713928659408 -->\n<g id=\"node2\" class=\"node\">\n<title>139713928659408</title>\n<polygon fill=\"#d3d3d3\" stroke=\"#000000\" points=\"113,-92 0,-92 0,-73 113,-73 113,-92\"/>\n<text text-anchor=\"middle\" x=\"56.5\" y=\"-80\" font-family=\"monospace\" font-size=\"10.00\" fill=\"#000000\">SqueezeBackward1</text>\n</g>\n<!-- 139713928659408&#45;&gt;139713927292688 -->\n<g id=\"edge6\" class=\"edge\">\n<title>139713928659408&#45;&gt;139713927292688</title>\n<path fill=\"none\" stroke=\"#000000\" d=\"M65.2398,-72.9005C73.3233,-64.0219 85.6619,-50.4698 96.3204,-38.7628\"/>\n<polygon fill=\"#000000\" stroke=\"#000000\" points=\"99.2138,-40.7837 103.358,-31.033 94.0377,-36.0711 99.2138,-40.7837\"/>\n</g>\n<!-- 139713929283728 -->\n<g id=\"node3\" class=\"node\">\n<title>139713929283728</title>\n<polygon fill=\"#d3d3d3\" stroke=\"#000000\" points=\"186,-153 49,-153 49,-134 186,-134 186,-153\"/>\n<text text-anchor=\"middle\" x=\"117.5\" y=\"-141\" font-family=\"monospace\" font-size=\"10.00\" fill=\"#000000\">ConvolutionBackward0</text>\n</g>\n<!-- 139713929283728&#45;&gt;139713928659408 -->\n<g id=\"edge1\" class=\"edge\">\n<title>139713929283728&#45;&gt;139713928659408</title>\n<path fill=\"none\" stroke=\"#000000\" d=\"M107.9688,-133.9688C98.7121,-124.7121 84.461,-110.461 73.2997,-99.2997\"/>\n<polygon fill=\"#000000\" stroke=\"#000000\" points=\"75.7116,-96.7618 66.1656,-92.1656 70.7618,-101.7116 75.7116,-96.7618\"/>\n</g>\n<!-- 139713927294128 -->\n<g id=\"node8\" class=\"node\">\n<title>139713927294128</title>\n<polygon fill=\"#a2cd5a\" stroke=\"#000000\" points=\"226,-98 131,-98 131,-67 226,-67 226,-98\"/>\n<text text-anchor=\"middle\" x=\"178.5\" y=\"-74\" font-family=\"monospace\" font-size=\"10.00\" fill=\"#000000\"> (1, 5, 7, 7)</text>\n</g>\n<!-- 139713929283728&#45;&gt;139713927294128 -->\n<g id=\"edge7\" class=\"edge\">\n<title>139713929283728&#45;&gt;139713927294128</title>\n<path fill=\"none\" stroke=\"#000000\" d=\"M127.0313,-133.9688C134.6146,-126.3854 145.5499,-115.4501 155.3923,-105.6077\"/>\n<polygon fill=\"#000000\" stroke=\"#000000\" points=\"158.036,-107.9138 162.6322,-98.3678 153.0862,-102.964 158.036,-107.9138\"/>\n</g>\n<!-- 139713935074832 -->\n<g id=\"node4\" class=\"node\">\n<title>139713935074832</title>\n<polygon fill=\"#d3d3d3\" stroke=\"#000000\" points=\"109,-208 8,-208 8,-189 109,-189 109,-208\"/>\n<text text-anchor=\"middle\" x=\"58.5\" y=\"-196\" font-family=\"monospace\" font-size=\"10.00\" fill=\"#000000\">AccumulateGrad</text>\n</g>\n<!-- 139713935074832&#45;&gt;139713929283728 -->\n<g id=\"edge2\" class=\"edge\">\n<title>139713935074832&#45;&gt;139713929283728</title>\n<path fill=\"none\" stroke=\"#000000\" d=\"M68.777,-188.9197C77.2176,-181.0514 89.377,-169.7164 99.4369,-160.3385\"/>\n<polygon fill=\"#000000\" stroke=\"#000000\" points=\"102.0154,-162.7198 106.9435,-153.3408 97.2422,-157.5995 102.0154,-162.7198\"/>\n</g>\n<!-- 139713927291920 -->\n<g id=\"node5\" class=\"node\">\n<title>139713927291920</title>\n<polygon fill=\"#add8e6\" stroke=\"#000000\" points=\"106,-274 11,-274 11,-244 106,-244 106,-274\"/>\n<text text-anchor=\"middle\" x=\"58.5\" y=\"-262\" font-family=\"monospace\" font-size=\"10.00\" fill=\"#000000\">weight</text>\n<text text-anchor=\"middle\" x=\"58.5\" y=\"-251\" font-family=\"monospace\" font-size=\"10.00\" fill=\"#000000\"> (5, 3, 3, 3)</text>\n</g>\n<!-- 139713927291920&#45;&gt;139713935074832 -->\n<g id=\"edge3\" class=\"edge\">\n<title>139713927291920&#45;&gt;139713935074832</title>\n<path fill=\"none\" stroke=\"#000000\" d=\"M58.5,-243.7333C58.5,-236.0322 58.5,-226.5977 58.5,-218.3414\"/>\n<polygon fill=\"#000000\" stroke=\"#000000\" points=\"62.0001,-218.0864 58.5,-208.0864 55.0001,-218.0864 62.0001,-218.0864\"/>\n</g>\n<!-- 139713935076176 -->\n<g id=\"node6\" class=\"node\">\n<title>139713935076176</title>\n<polygon fill=\"#d3d3d3\" stroke=\"#000000\" points=\"228,-208 127,-208 127,-189 228,-189 228,-208\"/>\n<text text-anchor=\"middle\" x=\"177.5\" y=\"-196\" font-family=\"monospace\" font-size=\"10.00\" fill=\"#000000\">AccumulateGrad</text>\n</g>\n<!-- 139713935076176&#45;&gt;139713929283728 -->\n<g id=\"edge4\" class=\"edge\">\n<title>139713935076176&#45;&gt;139713929283728</title>\n<path fill=\"none\" stroke=\"#000000\" d=\"M167.0488,-188.9197C158.4651,-181.0514 146.0997,-169.7164 135.8693,-160.3385\"/>\n<polygon fill=\"#000000\" stroke=\"#000000\" points=\"137.9721,-157.5181 128.2355,-153.3408 133.242,-162.6782 137.9721,-157.5181\"/>\n</g>\n<!-- 139713927291824 -->\n<g id=\"node7\" class=\"node\">\n<title>139713927291824</title>\n<polygon fill=\"#add8e6\" stroke=\"#000000\" points=\"204.5,-274 150.5,-274 150.5,-244 204.5,-244 204.5,-274\"/>\n<text text-anchor=\"middle\" x=\"177.5\" y=\"-262\" font-family=\"monospace\" font-size=\"10.00\" fill=\"#000000\">bias</text>\n<text text-anchor=\"middle\" x=\"177.5\" y=\"-251\" font-family=\"monospace\" font-size=\"10.00\" fill=\"#000000\"> (5)</text>\n</g>\n<!-- 139713927291824&#45;&gt;139713935076176 -->\n<g id=\"edge5\" class=\"edge\">\n<title>139713927291824&#45;&gt;139713935076176</title>\n<path fill=\"none\" stroke=\"#000000\" d=\"M177.5,-243.7333C177.5,-236.0322 177.5,-226.5977 177.5,-218.3414\"/>\n<polygon fill=\"#000000\" stroke=\"#000000\" points=\"181.0001,-218.0864 177.5,-208.0864 174.0001,-218.0864 181.0001,-218.0864\"/>\n</g>\n<!-- 139713927294128&#45;&gt;139713927292688 -->\n<g id=\"edge8\" class=\"edge\">\n<title>139713927294128&#45;&gt;139713927292688</title>\n<path fill=\"none\" stroke=\"#000000\" stroke-dasharray=\"1,5\" d=\"M164.3521,-66.9604C156.7631,-58.625 147.2564,-48.1833 138.7934,-38.8878\"/>\n<polygon fill=\"#000000\" stroke=\"#000000\" points=\"141.3151,-36.4587 131.9948,-31.4205 136.139,-41.1713 141.3151,-36.4587\"/>\n</g>\n</g>\n</svg>\n"
          },
          "metadata": {},
          "execution_count": 49
        }
      ]
    },
    {
      "cell_type": "markdown",
      "source": [
        "**pooling layer**"
      ],
      "metadata": {
        "id": "xgZaZKWe2KN1"
      }
    },
    {
      "cell_type": "code",
      "source": [
        "kernel_size = 2\n",
        "pool_layer = nn.MaxPool2d(kernel_size, stride=None, padding=0, dilation=1, return_indices=False, ceil_mode=False)\n",
        "output = pool_layer(image)\n",
        "print(output.shape)"
      ],
      "metadata": {
        "colab": {
          "base_uri": "https://localhost:8080/"
        },
        "id": "AA6OXpyAvnrH",
        "outputId": "091ed1e0-4557-45aa-aa5c-71de77c3e183"
      },
      "execution_count": 55,
      "outputs": [
        {
          "output_type": "stream",
          "name": "stdout",
          "text": [
            "torch.Size([3, 4, 4])\n"
          ]
        }
      ]
    },
    {
      "cell_type": "code",
      "source": [
        "make_dot(pool_layer(image), params= dict(model.named_parameters()))"
      ],
      "metadata": {
        "colab": {
          "base_uri": "https://localhost:8080/",
          "height": 73
        },
        "id": "XBixVSBj1wSi",
        "outputId": "4beac7ea-afd1-4dff-99c8-875c3bf28ca3"
      },
      "execution_count": 56,
      "outputs": [
        {
          "output_type": "execute_result",
          "data": {
            "text/plain": [
              "<graphviz.dot.Digraph at 0x7f11b7174d90>"
            ],
            "image/svg+xml": "<?xml version=\"1.0\" encoding=\"UTF-8\" standalone=\"no\"?>\n<!DOCTYPE svg PUBLIC \"-//W3C//DTD SVG 1.1//EN\"\n \"http://www.w3.org/Graphics/SVG/1.1/DTD/svg11.dtd\">\n<!-- Generated by graphviz version 2.40.1 (20161225.0304)\n -->\n<!-- Title: %3 Pages: 1 -->\n<svg width=\"85pt\" height=\"39pt\"\n viewBox=\"0.00 0.00 85.00 39.00\" xmlns=\"http://www.w3.org/2000/svg\" xmlns:xlink=\"http://www.w3.org/1999/xlink\">\n<g id=\"graph0\" class=\"graph\" transform=\"scale(1 1) rotate(0) translate(4 35)\">\n<title>%3</title>\n<polygon fill=\"#ffffff\" stroke=\"transparent\" points=\"-4,4 -4,-35 81,-35 81,4 -4,4\"/>\n<!-- 139713927477584 -->\n<g id=\"node1\" class=\"node\">\n<title>139713927477584</title>\n<polygon fill=\"#caff70\" stroke=\"#000000\" points=\"77,-31 0,-31 0,0 77,0 77,-31\"/>\n<text text-anchor=\"middle\" x=\"38.5\" y=\"-7\" font-family=\"monospace\" font-size=\"10.00\" fill=\"#000000\"> (3, 4, 4)</text>\n</g>\n</g>\n</svg>\n"
          },
          "metadata": {},
          "execution_count": 56
        }
      ]
    },
    {
      "cell_type": "markdown",
      "source": [
        "***create a complete model containing convolutional layers***"
      ],
      "metadata": {
        "id": "GsDDunMU5cSg"
      }
    },
    {
      "cell_type": "code",
      "source": [
        "model = nn.Sequential(\n",
        "    nn.Conv2d(3,5,3,2,1), # (input channel, output channel, kernel size, stride , padding)\n",
        "    nn.ReLU(),\n",
        "    nn.Conv2d(5,5,1,1,0)\n",
        ")\n",
        "input = torch.randn(3,32,32)\n",
        "print(model(input).size())\n",
        "print(model)"
      ],
      "metadata": {
        "colab": {
          "base_uri": "https://localhost:8080/"
        },
        "id": "ZdzVsrtB2yj5",
        "outputId": "84afa4dc-6dd0-47fd-ffb4-845c651ce975"
      },
      "execution_count": 59,
      "outputs": [
        {
          "output_type": "stream",
          "name": "stdout",
          "text": [
            "torch.Size([5, 16, 16])\n",
            "Sequential(\n",
            "  (0): Conv2d(3, 5, kernel_size=(3, 3), stride=(2, 2), padding=(1, 1))\n",
            "  (1): ReLU()\n",
            "  (2): Conv2d(5, 5, kernel_size=(1, 1), stride=(1, 1))\n",
            ")\n"
          ]
        }
      ]
    },
    {
      "cell_type": "code",
      "source": [
        "make_dot(model(image), params= dict(model.named_parameters()))"
      ],
      "metadata": {
        "colab": {
          "base_uri": "https://localhost:8080/",
          "height": 705
        },
        "id": "bEGGHTyv6kXf",
        "outputId": "4eb6e17c-0b27-4504-cfa9-890855ca56dd"
      },
      "execution_count": 60,
      "outputs": [
        {
          "output_type": "execute_result",
          "data": {
            "text/plain": [
              "<graphviz.dot.Digraph at 0x7f11aef1c850>"
            ],
            "image/svg+xml": "<?xml version=\"1.0\" encoding=\"UTF-8\" standalone=\"no\"?>\n<!DOCTYPE svg PUBLIC \"-//W3C//DTD SVG 1.1//EN\"\n \"http://www.w3.org/Graphics/SVG/1.1/DTD/svg11.dtd\">\n<!-- Generated by graphviz version 2.40.1 (20161225.0304)\n -->\n<!-- Title: %3 Pages: 1 -->\n<svg width=\"418pt\" height=\"513pt\"\n viewBox=\"0.00 0.00 418.00 513.00\" xmlns=\"http://www.w3.org/2000/svg\" xmlns:xlink=\"http://www.w3.org/1999/xlink\">\n<g id=\"graph0\" class=\"graph\" transform=\"scale(1 1) rotate(0) translate(4 509)\">\n<title>%3</title>\n<polygon fill=\"#ffffff\" stroke=\"transparent\" points=\"-4,4 -4,-509 414,-509 414,4 -4,4\"/>\n<!-- 139713927097232 -->\n<g id=\"node1\" class=\"node\">\n<title>139713927097232</title>\n<polygon fill=\"#caff70\" stroke=\"#000000\" points=\"279,-31 202,-31 202,0 279,0 279,-31\"/>\n<text text-anchor=\"middle\" x=\"240.5\" y=\"-7\" font-family=\"monospace\" font-size=\"10.00\" fill=\"#000000\"> (5, 5, 5)</text>\n</g>\n<!-- 139713926252944 -->\n<g id=\"node2\" class=\"node\">\n<title>139713926252944</title>\n<polygon fill=\"#d3d3d3\" stroke=\"#000000\" points=\"236,-92 123,-92 123,-73 236,-73 236,-92\"/>\n<text text-anchor=\"middle\" x=\"179.5\" y=\"-80\" font-family=\"monospace\" font-size=\"10.00\" fill=\"#000000\">SqueezeBackward1</text>\n</g>\n<!-- 139713926252944&#45;&gt;139713927097232 -->\n<g id=\"edge14\" class=\"edge\">\n<title>139713926252944&#45;&gt;139713927097232</title>\n<path fill=\"none\" stroke=\"#000000\" d=\"M188.2398,-72.9005C196.3233,-64.0219 208.6619,-50.4698 219.3204,-38.7628\"/>\n<polygon fill=\"#000000\" stroke=\"#000000\" points=\"222.2138,-40.7837 226.358,-31.033 217.0377,-36.0711 222.2138,-40.7837\"/>\n</g>\n<!-- 139713926251088 -->\n<g id=\"node3\" class=\"node\">\n<title>139713926251088</title>\n<polygon fill=\"#d3d3d3\" stroke=\"#000000\" points=\"309,-153 172,-153 172,-134 309,-134 309,-153\"/>\n<text text-anchor=\"middle\" x=\"240.5\" y=\"-141\" font-family=\"monospace\" font-size=\"10.00\" fill=\"#000000\">ConvolutionBackward0</text>\n</g>\n<!-- 139713926251088&#45;&gt;139713926252944 -->\n<g id=\"edge1\" class=\"edge\">\n<title>139713926251088&#45;&gt;139713926252944</title>\n<path fill=\"none\" stroke=\"#000000\" d=\"M230.9688,-133.9688C221.7121,-124.7121 207.461,-110.461 196.2997,-99.2997\"/>\n<polygon fill=\"#000000\" stroke=\"#000000\" points=\"198.7116,-96.7618 189.1656,-92.1656 193.7618,-101.7116 198.7116,-96.7618\"/>\n</g>\n<!-- 139713925994160 -->\n<g id=\"node16\" class=\"node\">\n<title>139713925994160</title>\n<polygon fill=\"#a2cd5a\" stroke=\"#000000\" points=\"349,-98 254,-98 254,-67 349,-67 349,-98\"/>\n<text text-anchor=\"middle\" x=\"301.5\" y=\"-74\" font-family=\"monospace\" font-size=\"10.00\" fill=\"#000000\"> (1, 5, 5, 5)</text>\n</g>\n<!-- 139713926251088&#45;&gt;139713925994160 -->\n<g id=\"edge15\" class=\"edge\">\n<title>139713926251088&#45;&gt;139713925994160</title>\n<path fill=\"none\" stroke=\"#000000\" d=\"M250.0313,-133.9688C257.6146,-126.3854 268.5499,-115.4501 278.3923,-105.6077\"/>\n<polygon fill=\"#000000\" stroke=\"#000000\" points=\"281.036,-107.9138 285.6322,-98.3678 276.0862,-102.964 281.036,-107.9138\"/>\n</g>\n<!-- 139713926253968 -->\n<g id=\"node4\" class=\"node\">\n<title>139713926253968</title>\n<polygon fill=\"#d3d3d3\" stroke=\"#000000\" points=\"172,-208 47,-208 47,-189 172,-189 172,-208\"/>\n<text text-anchor=\"middle\" x=\"109.5\" y=\"-196\" font-family=\"monospace\" font-size=\"10.00\" fill=\"#000000\">UnsqueezeBackward0</text>\n</g>\n<!-- 139713926253968&#45;&gt;139713926251088 -->\n<g id=\"edge2\" class=\"edge\">\n<title>139713926253968&#45;&gt;139713926251088</title>\n<path fill=\"none\" stroke=\"#000000\" d=\"M132.3185,-188.9197C153.3222,-180.1014 184.6971,-166.9287 208.2577,-157.0369\"/>\n<polygon fill=\"#000000\" stroke=\"#000000\" points=\"209.6381,-160.2533 217.5035,-153.155 206.9282,-153.7991 209.6381,-160.2533\"/>\n</g>\n<!-- 139713928659920 -->\n<g id=\"node5\" class=\"node\">\n<title>139713928659920</title>\n<polygon fill=\"#d3d3d3\" stroke=\"#000000\" points=\"157,-268.5 62,-268.5 62,-249.5 157,-249.5 157,-268.5\"/>\n<text text-anchor=\"middle\" x=\"109.5\" y=\"-256.5\" font-family=\"monospace\" font-size=\"10.00\" fill=\"#000000\">ReluBackward0</text>\n</g>\n<!-- 139713928659920&#45;&gt;139713926253968 -->\n<g id=\"edge3\" class=\"edge\">\n<title>139713928659920&#45;&gt;139713926253968</title>\n<path fill=\"none\" stroke=\"#000000\" d=\"M109.5,-249.2796C109.5,-241.0376 109.5,-228.9457 109.5,-218.629\"/>\n<polygon fill=\"#000000\" stroke=\"#000000\" points=\"113.0001,-218.3972 109.5,-208.3972 106.0001,-218.3973 113.0001,-218.3972\"/>\n</g>\n<!-- 139713926403984 -->\n<g id=\"node6\" class=\"node\">\n<title>139713926403984</title>\n<polygon fill=\"#d3d3d3\" stroke=\"#000000\" points=\"166,-329 53,-329 53,-310 166,-310 166,-329\"/>\n<text text-anchor=\"middle\" x=\"109.5\" y=\"-317\" font-family=\"monospace\" font-size=\"10.00\" fill=\"#000000\">SqueezeBackward1</text>\n</g>\n<!-- 139713926403984&#45;&gt;139713928659920 -->\n<g id=\"edge4\" class=\"edge\">\n<title>139713926403984&#45;&gt;139713928659920</title>\n<path fill=\"none\" stroke=\"#000000\" d=\"M109.5,-309.7796C109.5,-301.5376 109.5,-289.4457 109.5,-279.129\"/>\n<polygon fill=\"#000000\" stroke=\"#000000\" points=\"113.0001,-278.8972 109.5,-268.8972 106.0001,-278.8973 113.0001,-278.8972\"/>\n</g>\n<!-- 139713926402384 -->\n<g id=\"node7\" class=\"node\">\n<title>139713926402384</title>\n<polygon fill=\"#d3d3d3\" stroke=\"#000000\" points=\"178,-384 41,-384 41,-365 178,-365 178,-384\"/>\n<text text-anchor=\"middle\" x=\"109.5\" y=\"-372\" font-family=\"monospace\" font-size=\"10.00\" fill=\"#000000\">ConvolutionBackward0</text>\n</g>\n<!-- 139713926402384&#45;&gt;139713926403984 -->\n<g id=\"edge5\" class=\"edge\">\n<title>139713926402384&#45;&gt;139713926403984</title>\n<path fill=\"none\" stroke=\"#000000\" d=\"M109.5,-364.9197C109.5,-357.9083 109.5,-348.1442 109.5,-339.4652\"/>\n<polygon fill=\"#000000\" stroke=\"#000000\" points=\"113.0001,-339.3408 109.5,-329.3408 106.0001,-339.3409 113.0001,-339.3408\"/>\n</g>\n<!-- 139713926405072 -->\n<g id=\"node8\" class=\"node\">\n<title>139713926405072</title>\n<polygon fill=\"#d3d3d3\" stroke=\"#000000\" points=\"101,-439 0,-439 0,-420 101,-420 101,-439\"/>\n<text text-anchor=\"middle\" x=\"50.5\" y=\"-427\" font-family=\"monospace\" font-size=\"10.00\" fill=\"#000000\">AccumulateGrad</text>\n</g>\n<!-- 139713926405072&#45;&gt;139713926402384 -->\n<g id=\"edge6\" class=\"edge\">\n<title>139713926405072&#45;&gt;139713926402384</title>\n<path fill=\"none\" stroke=\"#000000\" d=\"M60.777,-419.9197C69.2176,-412.0514 81.377,-400.7164 91.4369,-391.3385\"/>\n<polygon fill=\"#000000\" stroke=\"#000000\" points=\"94.0154,-393.7198 98.9435,-384.3408 89.2422,-388.5995 94.0154,-393.7198\"/>\n</g>\n<!-- 139713926059312 -->\n<g id=\"node9\" class=\"node\">\n<title>139713926059312</title>\n<polygon fill=\"#add8e6\" stroke=\"#000000\" points=\"98,-505 3,-505 3,-475 98,-475 98,-505\"/>\n<text text-anchor=\"middle\" x=\"50.5\" y=\"-493\" font-family=\"monospace\" font-size=\"10.00\" fill=\"#000000\">0.weight</text>\n<text text-anchor=\"middle\" x=\"50.5\" y=\"-482\" font-family=\"monospace\" font-size=\"10.00\" fill=\"#000000\"> (5, 3, 3, 3)</text>\n</g>\n<!-- 139713926059312&#45;&gt;139713926405072 -->\n<g id=\"edge7\" class=\"edge\">\n<title>139713926059312&#45;&gt;139713926405072</title>\n<path fill=\"none\" stroke=\"#000000\" d=\"M50.5,-474.7333C50.5,-467.0322 50.5,-457.5977 50.5,-449.3414\"/>\n<polygon fill=\"#000000\" stroke=\"#000000\" points=\"54.0001,-449.0864 50.5,-439.0864 47.0001,-449.0864 54.0001,-449.0864\"/>\n</g>\n<!-- 139713926403280 -->\n<g id=\"node10\" class=\"node\">\n<title>139713926403280</title>\n<polygon fill=\"#d3d3d3\" stroke=\"#000000\" points=\"220,-439 119,-439 119,-420 220,-420 220,-439\"/>\n<text text-anchor=\"middle\" x=\"169.5\" y=\"-427\" font-family=\"monospace\" font-size=\"10.00\" fill=\"#000000\">AccumulateGrad</text>\n</g>\n<!-- 139713926403280&#45;&gt;139713926402384 -->\n<g id=\"edge8\" class=\"edge\">\n<title>139713926403280&#45;&gt;139713926402384</title>\n<path fill=\"none\" stroke=\"#000000\" d=\"M159.0488,-419.9197C150.4651,-412.0514 138.0997,-400.7164 127.8693,-391.3385\"/>\n<polygon fill=\"#000000\" stroke=\"#000000\" points=\"129.9721,-388.5181 120.2355,-384.3408 125.242,-393.6782 129.9721,-388.5181\"/>\n</g>\n<!-- 139713926060368 -->\n<g id=\"node11\" class=\"node\">\n<title>139713926060368</title>\n<polygon fill=\"#add8e6\" stroke=\"#000000\" points=\"196.5,-505 142.5,-505 142.5,-475 196.5,-475 196.5,-505\"/>\n<text text-anchor=\"middle\" x=\"169.5\" y=\"-493\" font-family=\"monospace\" font-size=\"10.00\" fill=\"#000000\">0.bias</text>\n<text text-anchor=\"middle\" x=\"169.5\" y=\"-482\" font-family=\"monospace\" font-size=\"10.00\" fill=\"#000000\"> (5)</text>\n</g>\n<!-- 139713926060368&#45;&gt;139713926403280 -->\n<g id=\"edge9\" class=\"edge\">\n<title>139713926060368&#45;&gt;139713926403280</title>\n<path fill=\"none\" stroke=\"#000000\" d=\"M169.5,-474.7333C169.5,-467.0322 169.5,-457.5977 169.5,-449.3414\"/>\n<polygon fill=\"#000000\" stroke=\"#000000\" points=\"173.0001,-449.0864 169.5,-439.0864 166.0001,-449.0864 173.0001,-449.0864\"/>\n</g>\n<!-- 139713926251600 -->\n<g id=\"node12\" class=\"node\">\n<title>139713926251600</title>\n<polygon fill=\"#d3d3d3\" stroke=\"#000000\" points=\"291,-208 190,-208 190,-189 291,-189 291,-208\"/>\n<text text-anchor=\"middle\" x=\"240.5\" y=\"-196\" font-family=\"monospace\" font-size=\"10.00\" fill=\"#000000\">AccumulateGrad</text>\n</g>\n<!-- 139713926251600&#45;&gt;139713926251088 -->\n<g id=\"edge10\" class=\"edge\">\n<title>139713926251600&#45;&gt;139713926251088</title>\n<path fill=\"none\" stroke=\"#000000\" d=\"M240.5,-188.9197C240.5,-181.9083 240.5,-172.1442 240.5,-163.4652\"/>\n<polygon fill=\"#000000\" stroke=\"#000000\" points=\"244.0001,-163.3408 240.5,-153.3408 237.0001,-163.3409 244.0001,-163.3408\"/>\n</g>\n<!-- 139713926060464 -->\n<g id=\"node13\" class=\"node\">\n<title>139713926060464</title>\n<polygon fill=\"#add8e6\" stroke=\"#000000\" points=\"288,-274 193,-274 193,-244 288,-244 288,-274\"/>\n<text text-anchor=\"middle\" x=\"240.5\" y=\"-262\" font-family=\"monospace\" font-size=\"10.00\" fill=\"#000000\">2.weight</text>\n<text text-anchor=\"middle\" x=\"240.5\" y=\"-251\" font-family=\"monospace\" font-size=\"10.00\" fill=\"#000000\"> (5, 5, 1, 1)</text>\n</g>\n<!-- 139713926060464&#45;&gt;139713926251600 -->\n<g id=\"edge11\" class=\"edge\">\n<title>139713926060464&#45;&gt;139713926251600</title>\n<path fill=\"none\" stroke=\"#000000\" d=\"M240.5,-243.7333C240.5,-236.0322 240.5,-226.5977 240.5,-218.3414\"/>\n<polygon fill=\"#000000\" stroke=\"#000000\" points=\"244.0001,-218.0864 240.5,-208.0864 237.0001,-218.0864 244.0001,-218.0864\"/>\n</g>\n<!-- 139713928659984 -->\n<g id=\"node14\" class=\"node\">\n<title>139713928659984</title>\n<polygon fill=\"#d3d3d3\" stroke=\"#000000\" points=\"410,-208 309,-208 309,-189 410,-189 410,-208\"/>\n<text text-anchor=\"middle\" x=\"359.5\" y=\"-196\" font-family=\"monospace\" font-size=\"10.00\" fill=\"#000000\">AccumulateGrad</text>\n</g>\n<!-- 139713928659984&#45;&gt;139713926251088 -->\n<g id=\"edge12\" class=\"edge\">\n<title>139713928659984&#45;&gt;139713926251088</title>\n<path fill=\"none\" stroke=\"#000000\" d=\"M338.7718,-188.9197C319.9465,-180.219 291.9495,-167.2792 270.6487,-157.4343\"/>\n<polygon fill=\"#000000\" stroke=\"#000000\" points=\"271.9357,-154.1734 261.39,-153.155 268.9989,-160.5276 271.9357,-154.1734\"/>\n</g>\n<!-- 139713926062000 -->\n<g id=\"node15\" class=\"node\">\n<title>139713926062000</title>\n<polygon fill=\"#add8e6\" stroke=\"#000000\" points=\"386.5,-274 332.5,-274 332.5,-244 386.5,-244 386.5,-274\"/>\n<text text-anchor=\"middle\" x=\"359.5\" y=\"-262\" font-family=\"monospace\" font-size=\"10.00\" fill=\"#000000\">2.bias</text>\n<text text-anchor=\"middle\" x=\"359.5\" y=\"-251\" font-family=\"monospace\" font-size=\"10.00\" fill=\"#000000\"> (5)</text>\n</g>\n<!-- 139713926062000&#45;&gt;139713928659984 -->\n<g id=\"edge13\" class=\"edge\">\n<title>139713926062000&#45;&gt;139713928659984</title>\n<path fill=\"none\" stroke=\"#000000\" d=\"M359.5,-243.7333C359.5,-236.0322 359.5,-226.5977 359.5,-218.3414\"/>\n<polygon fill=\"#000000\" stroke=\"#000000\" points=\"363.0001,-218.0864 359.5,-208.0864 356.0001,-218.0864 363.0001,-218.0864\"/>\n</g>\n<!-- 139713925994160&#45;&gt;139713927097232 -->\n<g id=\"edge16\" class=\"edge\">\n<title>139713925994160&#45;&gt;139713927097232</title>\n<path fill=\"none\" stroke=\"#000000\" stroke-dasharray=\"1,5\" d=\"M287.3521,-66.9604C279.7631,-58.625 270.2564,-48.1833 261.7934,-38.8878\"/>\n<polygon fill=\"#000000\" stroke=\"#000000\" points=\"264.3151,-36.4587 254.9948,-31.4205 259.139,-41.1713 264.3151,-36.4587\"/>\n</g>\n</g>\n</svg>\n"
          },
          "metadata": {},
          "execution_count": 60
        }
      ]
    }
  ]
}